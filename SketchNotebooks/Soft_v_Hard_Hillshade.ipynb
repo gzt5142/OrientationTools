{
 "cells": [
  {
   "cell_type": "markdown",
   "id": "comfortable-gnome",
   "metadata": {},
   "source": [
    "# Hard vs Soft Hillshade\n"
   ]
  },
  {
   "cell_type": "code",
   "execution_count": null,
   "id": "colored-chancellor",
   "metadata": {},
   "outputs": [],
   "source": [
    "demFile = r\"./craterlake.tif\"  # Change this to be the path to your copy of the crater lake GeoTIF downloaded from shadedrelief.com"
   ]
  },
  {
   "cell_type": "code",
   "execution_count": null,
   "id": "fifteen-intersection",
   "metadata": {},
   "outputs": [],
   "source": [
    "from PIL import Image\n",
    "import numpy as np\n",
    "import matplotlib\n",
    "from matplotlib.patches import Rectangle\n",
    "import matplotlib.pyplot as plt\n",
    "\n",
    "\n",
    "cm = 1/2.54  # centimeters in inches\n",
    "phi = 1.618\n",
    "\n",
    "%matplotlib inline"
   ]
  },
  {
   "cell_type": "code",
   "execution_count": null,
   "id": "human-wright",
   "metadata": {},
   "outputs": [],
   "source": [
    "from SNV import surfaceNormals, lambert, lightVector\n",
    "\n",
    "## Creating custom color ramp for soft hillshade. \n",
    "cut_off = 0.8\n",
    "cdict = {\n",
    "    'red':[\n",
    "        (0.0, 0.0, 0.0), \n",
    "        (0.5, 1-cut_off, 1-cut_off), \n",
    "        (1.0, 1.0, 1.0)\n",
    "    ],\n",
    "    'green': [\n",
    "        (0.0, 0.0, 0.0), \n",
    "        (0.5, 1-cut_off, 1-cut_off), \n",
    "        (1.0, 1.0, 1.0)\n",
    "    ],\n",
    "    'blue': [\n",
    "        (0.0, 0.0, 0.0), \n",
    "        (0.5, 1-cut_off, 1-cut_off), \n",
    "        (1.0, 1.0, 1.0)\n",
    "    ]\n",
    "}\n",
    "soft_lambert=matplotlib.colors.LinearSegmentedColormap('Lambert_80_20', cdict)"
   ]
  },
  {
   "cell_type": "code",
   "execution_count": null,
   "id": "usual-option",
   "metadata": {},
   "outputs": [],
   "source": [
    "\n",
    "d = np.asarray(Image.open(demFile))\n",
    "\n",
    "lightAzimuth = 315\n",
    "lightElev = 30\n",
    "cellSize = 3.33\n",
    "\n",
    "#d = imread(demFile)\n",
    "hs = lambert(surfaceNormals(d, cellSize), lightVector(lightAzimuth, lightElev))\n",
    "hs=(hs +1)/2"
   ]
  },
  {
   "cell_type": "code",
   "execution_count": null,
   "id": "nominated-correlation",
   "metadata": {},
   "outputs": [],
   "source": [
    "x=1900\n",
    "y=1500\n",
    "\n",
    "swatchHeight = 400\n",
    "swatchWidth = int(swatchHeight * phi) #GoldenRatio\n",
    "\n",
    "fig, axs = plt.subplots(1, 1)\n",
    "axs.yaxis.set_visible(False)\n",
    "axs.xaxis.set_visible(False)\n",
    "axs.imshow(hs, cmap='gray')\n",
    "axs.add_patch(Rectangle((x-swatchWidth, y-swatchHeight), swatchWidth*2, swatchHeight*2, fill=False, color='m'))"
   ]
  },
  {
   "cell_type": "markdown",
   "id": "cordless-mixer",
   "metadata": {},
   "source": [
    "## Re-set datasets for swatch / smaller extent"
   ]
  },
  {
   "cell_type": "code",
   "execution_count": null,
   "id": "developmental-mineral",
   "metadata": {},
   "outputs": [],
   "source": [
    "dem = d[y-swatchHeight:y+swatchHeight, x-swatchWidth:x+swatchWidth]\n",
    "hs = lambert(surfaceNormals(dem, cellSize), lightVector(lightAzimuth, lightElev))\n",
    "\n",
    "\n",
    "soft_hs = np.copy((hs+1)/2)\n",
    "\n",
    "hs[hs<0]=0\n",
    "hard_hs = np.zeros(hs.shape, dtype='uint8')\n",
    "hard_hs = (hs/hs.max()) * 255\n",
    "\n",
    "del hs"
   ]
  },
  {
   "cell_type": "markdown",
   "id": "applied-strap",
   "metadata": {},
   "source": [
    "## Compute hard and soft hillshades"
   ]
  },
  {
   "cell_type": "code",
   "execution_count": null,
   "id": "crazy-execution",
   "metadata": {},
   "outputs": [],
   "source": [
    "fig, axs = plt.subplots(1, 3)\n",
    "#DEM\n",
    "axs[0].yaxis.set_visible(False)\n",
    "axs[0].xaxis.set_visible(False)\n",
    "axs[0].imshow(dem, cmap='terrain')\n",
    "\n",
    "#Soft HS\n",
    "axs[1].yaxis.set_visible(False)\n",
    "axs[1].xaxis.set_visible(False)\n",
    "axs[1].imshow(soft_hs, cmap=soft_lambert, vmin=0, vmax=1)\n",
    "\n",
    "#Hard HS\n",
    "axs[2].yaxis.set_visible(False)\n",
    "axs[2].xaxis.set_visible(False)\n",
    "axs[2].imshow(hard_hs, cmap='gray', vmin=0, vmax=255)\n"
   ]
  },
  {
   "cell_type": "markdown",
   "id": "located-highway",
   "metadata": {},
   "source": [
    "## Figure: Soft Hillshade w/ Histogram"
   ]
  },
  {
   "cell_type": "code",
   "execution_count": null,
   "id": "greater-dallas",
   "metadata": {},
   "outputs": [],
   "source": [
    "\n",
    "w_ = 15*cm\n",
    "\n",
    "fig, axes = plt.subplots(1, 2 , figsize=(w_, 0.11*cm + (w_/2)/phi))\n",
    "fig.set_dpi(600)\n",
    "\n",
    "#Soft HS\n",
    "axes[0].yaxis.set_visible(False)\n",
    "axes[0].xaxis.set_visible(False)\n",
    "axes[0].imshow(soft_hs, cmap=soft_lambert, vmin=0, vmax=1)\n",
    "\n",
    "#Soft Histogram\n",
    "axes[1].yaxis.set_visible(False)\n",
    "axes[1].xaxis.set_visible(True)\n",
    "axes[1].hist(soft_hs[soft_hs>=0.5].ravel(), color='lightgray', bins=64, range=[0,1])\n",
    "axes[1].hist(soft_hs[soft_hs<0.5].ravel(), color='darkgray', bins=64, range=[0,1])\n",
    "\n",
    "axes[1].set_xticks([0,0.5,1])\n",
    "axes[1].set_xticklabels(['', '',''])\n",
    "axes[1].tick_params(direction='out', length=8)\n",
    "axes[1].text(0.25, -0.025, '- Self-shaded -',\n",
    "        verticalalignment='top', horizontalalignment='center',\n",
    "        transform=axes[1].transAxes,\n",
    "        color='k', fontsize=6)\n",
    "axes[1].text(0.75, -0.025, '- Illuminated -',\n",
    "        verticalalignment='top', horizontalalignment='center',\n",
    "        transform=axes[1].transAxes,\n",
    "        color='k', fontsize=6)\n",
    "axes[1].annotate(\"Flat Lake\\nSurface\",\n",
    "            xy=(0.73, 0.75), xycoords='axes fraction',\n",
    "            xytext=(0.6, 0.8), textcoords='axes fraction',\n",
    "            arrowprops=dict(arrowstyle=\"->\", connectionstyle=\"arc3\", color='k'),\n",
    "            horizontalalignment='right', verticalalignment='bottom', fontsize=6, color='k'\n",
    "            )\n",
    "fig.subplots_adjust(hspace=0.0)\n",
    "fig.subplots_adjust(wspace=0.025)\n",
    "#plt.tight_layout()"
   ]
  },
  {
   "cell_type": "markdown",
   "id": "hollywood-postcard",
   "metadata": {},
   "source": [
    "## Hard Hillshade (traditional) w/ Histogram"
   ]
  },
  {
   "cell_type": "code",
   "execution_count": null,
   "id": "generic-notice",
   "metadata": {},
   "outputs": [],
   "source": [
    "w_ = 15*cm\n",
    "\n",
    "fig, axes = plt.subplots(1, 2 , figsize=(w_, 0.11*cm + (w_/2)/phi))\n",
    "fig.set_dpi(600)\n",
    "#fig.suptitle('Hard vs Soft Hillshade', fontsize=22)\n",
    "\n",
    "#Hard HS \n",
    "axes[0].yaxis.set_visible(False)\n",
    "axes[0].xaxis.set_visible(False)\n",
    "axes[0].imshow(hard_hs, cmap='gray', vmin=0, vmax=255)\n",
    "# axes[0].text(0.02, 0.95, '\\'Hard\\' hillshade',\n",
    "#         verticalalignment='top', horizontalalignment='left',\n",
    "#         transform=axes[0].transAxes,\n",
    "#         color='k', fontsize=10)\n",
    "\n",
    "# Hard Histogram\n",
    "axes[1].yaxis.set_visible(False)\n",
    "axes[1].xaxis.set_visible(True)\n",
    "# axes[1].text(0.02, 0.95, 'Clamped Output',\n",
    "#         verticalalignment='top', horizontalalignment='left',\n",
    "#         transform=axes[1].transAxes,\n",
    "#         color='k', fontsize=10)\n",
    "h_=(hard_hs)/2 + 128\n",
    "axes[1].set_xticks([0,127,255])\n",
    "axes[1].set_xticklabels(['', '',''])\n",
    "axes[1].tick_params(direction='out', length=8)\n",
    "axes[1].text(0.25, -0.025, '- Self-shaded -',\n",
    "        verticalalignment='top', horizontalalignment='center',\n",
    "        transform=axes[1].transAxes,\n",
    "        color='k', fontsize=6)\n",
    "axes[1].text(0.75, -0.025, '- Illuminated -',\n",
    "        verticalalignment='top', horizontalalignment='center',\n",
    "        transform=axes[1].transAxes,\n",
    "        color='k', fontsize=6)\n",
    "axes[1].hist(h_[h_>128].ravel(), color='lightgray', bins=64, range=[0, 255])\n",
    "axes[1].hist(h_[h_==128].ravel(), color='darkgray', bins=64, range=[0, 255])\n",
    "\n",
    "# axes[1].annotate(\"Flat Lake\\nSurface\",\n",
    "#             xy=(0.73, 0.75), xycoords='axes fraction',\n",
    "#             xytext=(0.6, 0.8), textcoords='axes fraction',\n",
    "#             arrowprops=dict(arrowstyle=\"->\", connectionstyle=\"arc3\", color='k'),\n",
    "#             horizontalalignment='right', verticalalignment='bottom', fontsize=6, color='k'\n",
    "#             )\n",
    "axes[1].annotate(\"Self-shaded areas\\nclamped to zero\",\n",
    "            xy=(0.5, 0.15), xycoords='axes fraction',\n",
    "            xytext=(0.4, 0.25), textcoords='axes fraction',\n",
    "            arrowprops=dict(arrowstyle=\"->\", connectionstyle=\"arc3\", color='k'),\n",
    "            horizontalalignment='right', verticalalignment='bottom', fontsize=6, color='k'\n",
    "            )\n",
    "fig.subplots_adjust(hspace=0.0)\n",
    "fig.subplots_adjust(wspace=0.025)"
   ]
  },
  {
   "cell_type": "code",
   "execution_count": null,
   "id": "ancient-installation",
   "metadata": {},
   "outputs": [],
   "source": []
  },
  {
   "cell_type": "code",
   "execution_count": null,
   "id": "heavy-novel",
   "metadata": {},
   "outputs": [],
   "source": []
  }
 ],
 "metadata": {
  "kernelspec": {
   "display_name": "Python 3",
   "language": "python",
   "name": "python3"
  },
  "language_info": {
   "codemirror_mode": {
    "name": "ipython",
    "version": 3
   },
   "file_extension": ".py",
   "mimetype": "text/x-python",
   "name": "python",
   "nbconvert_exporter": "python",
   "pygments_lexer": "ipython3",
   "version": "3.7.7"
  }
 },
 "nbformat": 4,
 "nbformat_minor": 5
}
