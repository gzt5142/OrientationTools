{
 "cells": [
  {
   "cell_type": "markdown",
   "metadata": {},
   "source": [
    "# Surface Normal Smoothing -- Kernel Expansion\n"
   ]
  },
  {
   "cell_type": "code",
   "execution_count": null,
   "metadata": {},
   "outputs": [],
   "source": [
    "from PIL import Image\n",
    "import numpy as np\n",
    "import matplotlib\n",
    "import matplotlib.pyplot as plt\n",
    "\n",
    "cm = 1/2.54  # centimeters in inches\n",
    "\n",
    "%matplotlib inline"
   ]
  },
  {
   "cell_type": "code",
   "execution_count": null,
   "metadata": {},
   "outputs": [],
   "source": [
    "#H = np.asarray(Image.open(r\"./ConeDEM.tif\"))\n",
    "H = np.asarray(Image.open(r\"./Crater_Lake.tif\"))\n",
    "cellsize = 3.33\n",
    "\n",
    "plt.axis('off')\n",
    "plt.imshow(H, cmap='cividis')"
   ]
  },
  {
   "cell_type": "code",
   "execution_count": null,
   "metadata": {},
   "outputs": [],
   "source": [
    "from trf import surface\n",
    "snv_1 = surface.normals(H, cellsize, method=\"N82\", level=1)\n",
    "snv_3 = surface.normals(H, cellsize, method=\"N82\", level=16)\n",
    "\n"
   ]
  },
  {
   "cell_type": "code",
   "execution_count": null,
   "metadata": {},
   "outputs": [],
   "source": [
    "from trf import shader, utils\n",
    "\n",
    "lv = utils.lightVector(315, 45)\n",
    "hs = shader.lambert(snv_1, lv)\n",
    "hs_3 = shader.lambert(snv_3, lv)\n"
   ]
  },
  {
   "cell_type": "code",
   "execution_count": null,
   "metadata": {},
   "outputs": [],
   "source": [
    "fig, axs = plt.subplots(2,2, figsize=(8*cm, 8*cm))\n",
    "fig.set_dpi(600)\n",
    "\n",
    "axs[0][0].set_title(\"Level=1\")\n",
    "axs[0][0].yaxis.set_visible(False)\n",
    "axs[0][0].xaxis.set_visible(False)\n",
    "axs[0][0].imshow((hs + 1) / 2, cmap='gray', vmin=0, vmax=1)\n",
    "\n",
    "axs[0][1].yaxis.set_visible(False)\n",
    "axs[0][1].xaxis.set_visible(False)\n",
    "snv_1_x = np.moveaxis((snv_1 + 1)/ 2, 0, 2)\n",
    "axs[0][1].imshow(snv_1_x)\n",
    "\n",
    "axs[1][0].set_title(\"Level=16\")\n",
    "axs[1][0].yaxis.set_visible(False)\n",
    "axs[1][0].xaxis.set_visible(False)\n",
    "axs[1][0].imshow((hs_3 + 1) / 2, cmap='gray', vmin=0, vmax=1)\n",
    "axs[1][1].yaxis.set_visible(False)\n",
    "axs[1][1].xaxis.set_visible(False)\n",
    "snv_3_x = np.moveaxis((snv_3 + 1)/ 2, 0, 2)\n",
    "axs[1][1].imshow(snv_3_x)\n",
    "plt.tight_layout()"
   ]
  },
  {
   "cell_type": "code",
   "execution_count": null,
   "metadata": {
    "pycharm": {
     "name": "#%%\n"
    }
   },
   "outputs": [],
   "source": []
  },
  {
   "cell_type": "code",
   "execution_count": null,
   "metadata": {
    "collapsed": false,
    "jupyter": {
     "outputs_hidden": false
    },
    "pycharm": {
     "name": "#%%\n"
    }
   },
   "outputs": [],
   "source": []
  }
 ],
 "metadata": {
  "kernelspec": {
   "display_name": "PyCharm (OrientationTools)",
   "language": "python",
   "name": "pycharm-1d999970"
  },
  "language_info": {
   "codemirror_mode": {
    "name": "ipython",
    "version": 3
   },
   "file_extension": ".py",
   "mimetype": "text/x-python",
   "name": "python",
   "nbconvert_exporter": "python",
   "pygments_lexer": "ipython3",
   "version": "3.7.10"
  }
 },
 "nbformat": 4,
 "nbformat_minor": 4
}
