{
 "cells": [
  {
   "cell_type": "markdown",
   "metadata": {},
   "source": [
    "# Surface Normal Components"
   ]
  },
  {
   "cell_type": "code",
   "execution_count": null,
   "metadata": {},
   "outputs": [],
   "source": [
    "from PIL import Image\n",
    "import numpy as np\n",
    "import matplotlib\n",
    "import matplotlib.pyplot as plt\n",
    "\n",
    "cm = 1/2.54  # centimeters in inches\n",
    "\n",
    "%matplotlib inline"
   ]
  },
  {
   "cell_type": "code",
   "execution_count": null,
   "metadata": {},
   "outputs": [],
   "source": [
    "H = np.asarray(Image.open(r\"./ConeDEM.tif\"))\n",
    "\n",
    "plt.title(\"DEM for Octagonal Pyramid\")\n",
    "plt.axis('off')\n",
    "plt.imshow(H, cmap='cividis')"
   ]
  },
  {
   "cell_type": "code",
   "execution_count": null,
   "metadata": {},
   "outputs": [],
   "source": [
    "import sys \n",
    "sys.path.insert(0, '..')\n",
    "from trf import surface, shader"
   ]
  },
  {
   "cell_type": "code",
   "execution_count": null,
   "metadata": {},
   "outputs": [],
   "source": [
    "sn = surface.normals(H, 10)\n",
    "\n",
    "# create hillshade with a 'standard' light direction of NW at 45 elevation\n",
    "hs = shader.lambert(sn, np.array([-0.5, 0.5, 0.707]))\n",
    "plt.title(\"Hillshade: NW / 45\")\n",
    "plt.axis('off')\n",
    "plt.imshow((hs + 1) / 2, cmap='gray', vmin=0.5, vmax=1)"
   ]
  },
  {
   "cell_type": "markdown",
   "metadata": {},
   "source": [
    "## Multi-Band Figure\n",
    "Figure size and DPI set for inclusion in the typeset manuscript. "
   ]
  },
  {
   "cell_type": "code",
   "execution_count": null,
   "metadata": {},
   "outputs": [],
   "source": [
    "plt.figure(figsize=(6*cm,6*cm), dpi=300)\n",
    "plt.axis('off')\n",
    "sn_adjusted = np.moveaxis((sn + 1)/2, 0, 2) # Need to reshape --> surface normals are [band,row,col]; an RGB images is [row,col,band]\n",
    "plt.imshow(sn_adjusted, vmin=0, vmax=1)"
   ]
  },
  {
   "cell_type": "markdown",
   "metadata": {},
   "source": [
    "## Figure: Individual Bands"
   ]
  },
  {
   "cell_type": "code",
   "execution_count": null,
   "metadata": {
    "pycharm": {
     "name": "#%%\n"
    }
   },
   "outputs": [],
   "source": [
    "plt.rcParams['figure.figsize'] = (15*cm, 11*cm)\n",
    "plt.rcParams['figure.dpi'] = 300\n",
    "\n",
    "ramp = np.zeros([110, 1000])\n",
    "for i in range(0,1000):\n",
    "    ramp[:,i] = i/1000 \n",
    "gs = matplotlib.gridspec.GridSpec(3,3, height_ratios=(3,0.4,2.5))\n",
    "\n",
    "ax1=plt.subplot(gs[0,0])\n",
    "ax1.yaxis.set_visible(False)\n",
    "ax1.xaxis.set_visible(False)\n",
    "ax1.axis('off')\n",
    "ax1.imshow(sn_adjusted[:,:,0], cmap='Reds', vmin=0, vmax=1)\n",
    "ax2=plt.subplot(gs[1,0])\n",
    "ax2.yaxis.set_visible(False)\n",
    "ax2.xaxis.set_visible(False)\n",
    "ax2.set_title(\"$N_x$ = Red\", fontsize=6, pad=8)\n",
    "ax2.imshow(ramp, cmap='Reds')\n",
    "ax3=plt.subplot(gs[2,0])\n",
    "ax3.yaxis.set_visible(False)\n",
    "ax3.xaxis.set_visible(True)\n",
    "ax3.tick_params(axis='x', labelsize=5)\n",
    "ax3.set_xticks([-1, -0.5, 0, 0.5, 1])\n",
    "ax3.hist(sn[0].ravel(), bins=24, color='red', range=[-1.0 ,1.0])\n",
    "ax3.set_xlabel(\"$N_x$ Histogram\", fontsize=5, labelpad=1)\n",
    "\n",
    "\n",
    "ax4=plt.subplot(gs[0,1])\n",
    "ax4.yaxis.set_visible(False)\n",
    "ax4.xaxis.set_visible(False)\n",
    "ax4.axis('off')\n",
    "ax4.imshow(sn_adjusted[:,:,1], cmap='Greens', vmin=0, vmax=1)\n",
    "ax5=plt.subplot(gs[1,1])\n",
    "ax5.yaxis.set_visible(False)\n",
    "ax5.xaxis.set_visible(False)\n",
    "ax5.set_title(\"$N_y$ = Green\", fontsize=6, pad=8)\n",
    "ax5.imshow(ramp, cmap='Greens')\n",
    "ax6=plt.subplot(gs[2,1])\n",
    "ax6.yaxis.set_visible(False)\n",
    "ax6.xaxis.set_visible(True)\n",
    "ax6.tick_params(axis='x', labelsize=5)\n",
    "ax6.set_xticks([-1, -0.5, 0, 0.5, 1])\n",
    "ax6.hist(sn[1].ravel(), bins=24, color='green', range=[-1.0 ,1.0])\n",
    "ax6.set_xlabel(\"$N_y$ Histogram\", fontsize=5, labelpad=1)\n",
    "\n",
    "ax7=plt.subplot(gs[0,2])\n",
    "ax7.yaxis.set_visible(False)\n",
    "ax7.xaxis.set_visible(False)\n",
    "ax7.axis('off')\n",
    "ax7.imshow(sn_adjusted[:,:,2], cmap='Blues', vmin=0, vmax=1)\n",
    "ax8=plt.subplot(gs[1,2])\n",
    "ax8.yaxis.set_visible(False)\n",
    "ax8.xaxis.set_visible(False)\n",
    "ax8.set_title(\"$N_z$ = Blue\", fontsize=6, pad=8)\n",
    "ax8.imshow(ramp, cmap='Blues')\n",
    "ax9=plt.subplot(gs[2,2])\n",
    "ax9.yaxis.set_visible(False)\n",
    "ax9.xaxis.set_visible(True)\n",
    "ax9.tick_params(axis='x', labelsize=5)\n",
    "ax9.set_xticks([-1, -0.5, 0, 0.5, 1])\n",
    "ax9.hist(sn[2].ravel(), bins=24, color='blue', range=[-1.0 ,1.0])\n",
    "ax9.set_xlabel(\"$N_z$ Histogram\", fontsize=5, labelpad=1)\n",
    "\n",
    "for a in ['top','bottom','left','right']:\n",
    "    ax8.spines[a].set_linewidth(0.25)\n",
    "    ax2.spines[a].set_linewidth(0.25)\n",
    "    ax5.spines[a].set_linewidth(0.25)\n",
    "plt.tight_layout(h_pad=0.25)"
   ]
  },
  {
   "cell_type": "code",
   "execution_count": null,
   "metadata": {
    "collapsed": false,
    "jupyter": {
     "outputs_hidden": false
    },
    "pycharm": {
     "name": "#%%\n"
    }
   },
   "outputs": [],
   "source": []
  }
 ],
 "metadata": {
  "kernelspec": {
   "display_name": "Python 3",
   "language": "python",
   "name": "python3"
  },
  "language_info": {
   "codemirror_mode": {
    "name": "ipython",
    "version": 3
   },
   "file_extension": ".py",
   "mimetype": "text/x-python",
   "name": "python",
   "nbconvert_exporter": "python",
   "pygments_lexer": "ipython3",
   "version": "3.7.10"
  }
 },
 "nbformat": 4,
 "nbformat_minor": 4
}
