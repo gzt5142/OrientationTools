{
 "cells": [
  {
   "cell_type": "code",
   "execution_count": 89,
   "outputs": [],
   "source": [
    "from PIL import Image\n",
    "import numpy as np\n",
    "import matplotlib.pyplot as plt\n",
    "import arcpy\n",
    "\n",
    "cm = 1/2.54  # centimeters in inches\n",
    "\n",
    "%matplotlib inline"
   ],
   "metadata": {
    "collapsed": false,
    "pycharm": {
     "name": "#%%\n"
    }
   }
  },
  {
   "cell_type": "code",
   "execution_count": 90,
   "outputs": [],
   "source": [
    "from trf import surface, shader, utils\n",
    "\n",
    "phi = 1.618\n",
    "x=1900\n",
    "y=1500\n",
    "swatchHeight = 400\n",
    "swatchWidth = int(swatchHeight * phi) #GoldenRatio"
   ],
   "metadata": {
    "collapsed": false,
    "pycharm": {
     "name": "#%%\n"
    }
   }
  },
  {
   "cell_type": "code",
   "execution_count": 91,
   "outputs": [],
   "source": [
    "dem = arcpy.RasterToNumPyArray(\"./Crater_Lake.tif\")\n",
    "nlcd = arcpy.RasterToNumPyArray(\"./NLCD.tif\")\n",
    "\n",
    "dem = dem[y-swatchHeight:y+swatchHeight, x-swatchWidth:x+swatchWidth]\n",
    "nlcd = nlcd[y-swatchHeight:y+swatchHeight, x-swatchWidth:x+swatchWidth]\n"
   ],
   "metadata": {
    "collapsed": false,
    "pycharm": {
     "name": "#%%\n"
    }
   }
  },
  {
   "cell_type": "code",
   "execution_count": 92,
   "outputs": [],
   "source": [
    "snv = surface.normals_by_method(dem, 3.33, \"N82\")\n",
    "bm = np.asarray(Image.open(r\"./DiamondPlate_500.tiff\"))\n",
    "#bm = np.asarray(Image.open(r\"../BumpMaps/Waves_NS.tiff\"))\n",
    "bumpmap = surface.bump_extent_by_mask(nlcd==11, bm)"
   ],
   "metadata": {
    "collapsed": false,
    "pycharm": {
     "name": "#%%\n"
    }
   }
  },
  {
   "cell_type": "code",
   "execution_count": 93,
   "outputs": [],
   "source": [
    "B = surface.applyBumpMap(snv, bumpmap)"
   ],
   "metadata": {
    "collapsed": false,
    "pycharm": {
     "name": "#%%\n"
    }
   }
  },
  {
   "cell_type": "code",
   "execution_count": 13,
   "outputs": [
    {
     "name": "stdout",
     "output_type": "stream",
     "text": [
      "270\n",
      "0\n",
      "90\n"
     ]
    }
   ],
   "source": [
    "for az in [270, 0, 90]:\n",
    "    hs = shader.lambert(B, utils.lightVector(az, 30))\n",
    "    print(az)\n",
    "    hs_clamped = hs\n",
    "    hs_clamped[hs<0] = 0\n",
    "    hs_clamped *= 255\n",
    "    #fig, axs = plt.subplots(1,1, figsize=(8*cm, 8*cm))\n",
    "    #fig.set_dpi(600)\n",
    "    #axs.yaxis.set_visible(False)\n",
    "    #axs.xaxis.set_visible(False)\n",
    "    #axs.imshow(hs_clamped.astype('uint8'), cmap='gray')\n",
    "    x=Image.fromarray(hs_clamped.astype('uint8'))\n",
    "    x.save(\"Waves_{}.jpg\".format(az))"
   ],
   "metadata": {
    "collapsed": false,
    "pycharm": {
     "name": "#%%\n"
    }
   }
  },
  {
   "cell_type": "code",
   "execution_count": 78,
   "outputs": [],
   "source": [
    "x=1600\n",
    "y=2625\n",
    "swatchHeight = 400\n",
    "swatchWidth = 400\n",
    "\n",
    "dem = arcpy.RasterToNumPyArray(\"./Crater_Lake.tif\")\n",
    "nlcd = arcpy.RasterToNumPyArray(\"./NLCD.tif\")\n",
    "bm = np.asarray(Image.open(r\"./DiamondPlate_500.tiff\"))\n",
    "\n",
    "dem = dem[y-swatchHeight:y+swatchHeight, x-swatchWidth:x+swatchWidth]\n",
    "nlcd = nlcd[y-swatchHeight:y+swatchHeight, x-swatchWidth:x+swatchWidth]"
   ],
   "metadata": {
    "collapsed": false,
    "pycharm": {
     "name": "#%%\n"
    }
   }
  },
  {
   "cell_type": "code",
   "execution_count": 79,
   "outputs": [
    {
     "data": {
      "text/plain": "<matplotlib.image.AxesImage at 0x11e856c7a48>"
     },
     "execution_count": 79,
     "metadata": {},
     "output_type": "execute_result"
    },
    {
     "data": {
      "text/plain": "<Figure size 432x288 with 1 Axes>",
      "image/png": "[encoded data removed]"
     },
     "metadata": {
      "needs_background": "light"
     },
     "output_type": "display_data"
    }
   ],
   "source": [
    "plt.imshow(dem)"
   ],
   "metadata": {
    "collapsed": false,
    "pycharm": {
     "name": "#%%\n"
    }
   }
  },
  {
   "cell_type": "code",
   "execution_count": 80,
   "outputs": [],
   "source": [
    "snv = surface.normals_by_method(dem, 3.33, \"N82\")\n",
    "bumpmap = surface.bump_extent_by_mask(nlcd != 11, bm)"
   ],
   "metadata": {
    "collapsed": false,
    "pycharm": {
     "name": "#%%\n"
    }
   }
  },
  {
   "cell_type": "code",
   "execution_count": 85,
   "outputs": [],
   "source": [
    "WizIsland = surface.applyBumpMap(snv, bumpmap)\n",
    "hs = shader.lambert(WizIsland, utils.lightVector(315, 45))\n",
    "hs_clamped = hs\n",
    "hs_clamped[hs<0] = 0"
   ],
   "metadata": {
    "collapsed": false,
    "pycharm": {
     "name": "#%%\n"
    }
   }
  },
  {
   "cell_type": "code",
   "execution_count": 88,
   "outputs": [],
   "source": [
    "x=Image.fromarray(hs_clamped.astype('uint8'))\n",
    "x.save(\"WizardIsland.png\")\n"
   ],
   "metadata": {
    "collapsed": false,
    "pycharm": {
     "name": "#%%\n"
    }
   }
  },
  {
   "cell_type": "code",
   "execution_count": null,
   "outputs": [],
   "source": [],
   "metadata": {
    "collapsed": false,
    "pycharm": {
     "name": "#%%\n"
    }
   }
  }
 ],
 "metadata": {
  "kernelspec": {
   "name": "pycharm-1d999970",
   "language": "python",
   "display_name": "PyCharm (OrientationTools)"
  },
  "language_info": {
   "codemirror_mode": {
    "name": "ipython",
    "version": 2
   },
   "file_extension": ".py",
   "mimetype": "text/x-python",
   "name": "python",
   "nbconvert_exporter": "python",
   "pygments_lexer": "ipython2",
   "version": "2.7.6"
  }
 },
 "nbformat": 4,
 "nbformat_minor": 0
}