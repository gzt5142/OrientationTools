{
 "cells": [
  {
   "cell_type": "code",
   "execution_count": null,
   "metadata": {
    "collapsed": false,
    "jupyter": {
     "outputs_hidden": false
    },
    "pycharm": {
     "name": "#%%\n"
    }
   },
   "outputs": [],
   "source": [
    "from PIL import Image\n",
    "import numpy as np\n",
    "import matplotlib.pyplot as plt\n",
    "import arcpy\n",
    "\n",
    "cm = 1/2.54  # centimeters in inches\n",
    "\n",
    "%matplotlib inline"
   ]
  },
  {
   "cell_type": "code",
   "execution_count": null,
   "metadata": {
    "collapsed": false,
    "jupyter": {
     "outputs_hidden": false
    },
    "pycharm": {
     "name": "#%%\n"
    }
   },
   "outputs": [],
   "source": [
    "from trf import surface, shader, utils\n",
    "\n",
    "phi = 1.618\n",
    "x=1900\n",
    "y=1500\n",
    "swatchHeight = 400\n",
    "swatchWidth = int(swatchHeight * phi) #GoldenRatio"
   ]
  },
  {
   "cell_type": "code",
   "execution_count": null,
   "metadata": {
    "collapsed": false,
    "jupyter": {
     "outputs_hidden": false
    },
    "pycharm": {
     "name": "#%%\n"
    }
   },
   "outputs": [],
   "source": [
    "dem = arcpy.RasterToNumPyArray(\"./Crater_Lake.tif\")\n",
    "nlcd = arcpy.RasterToNumPyArray(\"./NLCD.tif\")\n",
    "\n",
    "dem = dem[y-swatchHeight:y+swatchHeight, x-swatchWidth:x+swatchWidth]\n",
    "nlcd = nlcd[y-swatchHeight:y+swatchHeight, x-swatchWidth:x+swatchWidth]\n"
   ]
  },
  {
   "cell_type": "code",
   "execution_count": null,
   "metadata": {
    "collapsed": false,
    "jupyter": {
     "outputs_hidden": false
    },
    "pycharm": {
     "name": "#%%\n"
    }
   },
   "outputs": [],
   "source": [
    "snv = surface.normals_by_method(dem, 3.33, \"N82\")\n",
    "bm = np.asarray(Image.open(r\"./DiamondPlate_500.tiff\"))\n",
    "bumpmap = surface.bump_extent_by_mask(nlcd==11, bm)"
   ]
  },
  {
   "cell_type": "code",
   "execution_count": null,
   "metadata": {
    "collapsed": false,
    "jupyter": {
     "outputs_hidden": false
    },
    "pycharm": {
     "name": "#%%\n"
    }
   },
   "outputs": [],
   "source": [
    "B = surface.applyBumpMap(snv, bumpmap)"
   ]
  },
  {
   "cell_type": "code",
   "execution_count": null,
   "metadata": {
    "collapsed": false,
    "jupyter": {
     "outputs_hidden": false
    },
    "pycharm": {
     "name": "#%%\n"
    }
   },
   "outputs": [],
   "source": [
    "for az in [270, 0, 90]:\n",
    "    hs = shader.lambert(B, utils.lightVector(az, 30))\n",
    "    print(az)\n",
    "    hs_clamped = hs\n",
    "    hs_clamped[hs<0] = 0\n",
    "    hs_clamped *= 255\n",
    "    #fig, axs = plt.subplots(1,1, figsize=(8*cm, 8*cm))\n",
    "    #fig.set_dpi(600)\n",
    "    #axs.yaxis.set_visible(False)\n",
    "    #axs.xaxis.set_visible(False)\n",
    "    #axs.imshow(hs_clamped.astype('uint8'), cmap='gray')\n",
    "    x=Image.fromarray(hs_clamped.astype('uint8'))\n",
    "    x.save(\"Waves_{}.jpg\".format(az))"
   ]
  },
  {
   "cell_type": "code",
   "execution_count": null,
   "metadata": {
    "collapsed": false,
    "jupyter": {
     "outputs_hidden": false
    },
    "pycharm": {
     "name": "#%%\n"
    }
   },
   "outputs": [],
   "source": [
    "x=1600\n",
    "y=2625\n",
    "swatchHeight = 400\n",
    "swatchWidth = 400\n",
    "\n",
    "dem = arcpy.RasterToNumPyArray(\"./Crater_Lake.tif\")\n",
    "nlcd = arcpy.RasterToNumPyArray(\"./NLCD.tif\")\n",
    "bm = np.asarray(Image.open(r\"./DiamondPlate_500.tiff\"))\n",
    "\n",
    "dem = dem[y-swatchHeight:y+swatchHeight, x-swatchWidth:x+swatchWidth]\n",
    "nlcd = nlcd[y-swatchHeight:y+swatchHeight, x-swatchWidth:x+swatchWidth]"
   ]
  },
  {
   "cell_type": "code",
   "execution_count": null,
   "metadata": {
    "collapsed": false,
    "jupyter": {
     "outputs_hidden": false
    },
    "pycharm": {
     "name": "#%%\n"
    }
   },
   "outputs": [],
   "source": [
    "plt.imshow(dem)"
   ]
  },
  {
   "cell_type": "code",
   "execution_count": null,
   "metadata": {
    "collapsed": false,
    "jupyter": {
     "outputs_hidden": false
    },
    "pycharm": {
     "name": "#%%\n"
    }
   },
   "outputs": [],
   "source": [
    "snv = surface.normals_by_method(dem, 3.33, \"N82\")\n",
    "bumpmap = surface.bump_extent_by_mask(nlcd != 11, bm)"
   ]
  },
  {
   "cell_type": "code",
   "execution_count": null,
   "metadata": {
    "collapsed": false,
    "jupyter": {
     "outputs_hidden": false
    },
    "pycharm": {
     "name": "#%%\n"
    }
   },
   "outputs": [],
   "source": [
    "WizIsland = surface.applyBumpMap(snv, bumpmap)\n",
    "hs = shader.lambert(WizIsland, utils.lightVector(315, 45))\n",
    "hs_clamped = hs\n",
    "hs_clamped[hs<0] = 0"
   ]
  },
  {
   "cell_type": "code",
   "execution_count": null,
   "metadata": {
    "collapsed": false,
    "jupyter": {
     "outputs_hidden": false
    },
    "pycharm": {
     "name": "#%%\n"
    }
   },
   "outputs": [],
   "source": [
    "x=Image.fromarray(hs_clamped.astype('uint8'))\n",
    "x.save(\"WizardIsland.png\")\n"
   ]
  },
  {
   "cell_type": "code",
   "execution_count": null,
   "metadata": {
    "collapsed": false,
    "jupyter": {
     "outputs_hidden": false
    },
    "pycharm": {
     "name": "#%%\n"
    }
   },
   "outputs": [],
   "source": []
  }
 ],
 "metadata": {
  "kernelspec": {
   "display_name": "PyCharm (OrientationTools)",
   "language": "python",
   "name": "pycharm-1d999970"
  },
  "language_info": {
   "codemirror_mode": {
    "name": "ipython",
    "version": 3
   },
   "file_extension": ".py",
   "mimetype": "text/x-python",
   "name": "python",
   "nbconvert_exporter": "python",
   "pygments_lexer": "ipython3",
   "version": "3.7.10"
  }
 },
 "nbformat": 4,
 "nbformat_minor": 4
}
