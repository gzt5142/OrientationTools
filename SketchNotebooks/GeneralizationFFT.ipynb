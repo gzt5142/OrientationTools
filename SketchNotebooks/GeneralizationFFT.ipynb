{
 "cells": [
  {
   "cell_type": "markdown",
   "metadata": {},
   "source": [
    "# Generalizing Terrain w/ Fourier Transforms\n",
    "\n"
   ]
  },
  {
   "cell_type": "code",
   "execution_count": null,
   "metadata": {},
   "outputs": [],
   "source": [
    "from PIL import Image\n",
    "import numpy as np\n",
    "import matplotlib\n",
    "import matplotlib.pyplot as plt\n",
    "from scipy import signal\n",
    "\n",
    "cm = 1/2.54  # centimeters in inches\n",
    "\n",
    "from scipy import ndimage\n",
    "from numpy.fft import fft2, fftshift, ifft2"
   ]
  },
  {
   "cell_type": "code",
   "execution_count": null,
   "metadata": {},
   "outputs": [],
   "source": [
    "#controlDEM = np.asarray(Image.open(r\"./ConeDEM.tif\"))\n",
    "controlDEM = np.asarray(Image.open(r\"./Crater_Lake.tif\"))\n",
    "\n",
    "cellsize = 3.33"
   ]
  },
  {
   "cell_type": "code",
   "execution_count": null,
   "metadata": {},
   "outputs": [],
   "source": [
    "from trf import shader, utils, surface\n",
    "\n",
    "lv = utils.lightVector(315, 45)\n"
   ]
  },
  {
   "cell_type": "markdown",
   "metadata": {},
   "source": [
    "# Control Image: \n",
    "We run the hillshade on the un-generalized DEM to see the hillshade and how its brightness values are distributed. "
   ]
  },
  {
   "cell_type": "code",
   "execution_count": null,
   "metadata": {},
   "outputs": [],
   "source": [
    "controlSNV = surface.normals(controlDEM, cellsize, method=\"N82\")\n",
    "controlHS = shader.lambert(controlSNV, lv)\n",
    "\n",
    "fig, axs = plt.subplots(1, 1, figsize=(6*cm, 6*cm))\n",
    "fig.set_dpi(300)\n",
    "axs.yaxis.set_visible(False)\n",
    "axs.xaxis.set_visible(False)\n",
    "axs.imshow(controlHS, cmap='gray', vmin=-1, vmax=1)"
   ]
  },
  {
   "cell_type": "code",
   "execution_count": null,
   "metadata": {},
   "outputs": [],
   "source": [
    "# Take 2D FFT of the height field, then \n",
    "# shift that so that low frequency is in the center of the plot, high frequency at edges\n",
    "f = np.fft.fftshift(np.fft.fft2(controlDEM))"
   ]
  },
  {
   "cell_type": "code",
   "execution_count": null,
   "metadata": {},
   "outputs": [],
   "source": [
    "def amplitude(f):\n",
    "    return np.sqrt(f.real**2 + f.imag**2)\n",
    "    \n",
    "plt.figure(figsize=(16,8))\n",
    "plt.subplot(1,2,1)\n",
    "plt.title(\"Original DEM\")\n",
    "plt.axis('off')\n",
    "plt.imshow(controlDEM, cmap='gray')\n",
    "plt.subplot(1,2,2)\n",
    "plt.title(\"Frequency Plot (amplitude)\")\n",
    "plt.axis('on')\n",
    "plt.imshow(np.log(amplitude(f)), interpolation='none', cmap='cividis')\n",
    "plt.show()"
   ]
  },
  {
   "cell_type": "code",
   "execution_count": null,
   "metadata": {},
   "outputs": [],
   "source": [
    "S = 32\n",
    "\n",
    "input_ = np.fft.fft2(controlDEM)\n",
    "result = ndimage.fourier_gaussian(input_, sigma=S)\n",
    "fftDEM = np.fft.ifft2(result).real\n",
    "\n",
    "\n",
    "fftSNV_x = np.zeros(controlSNV.shape)\n",
    "for band in [0, 1, 2]:\n",
    "    input_ = np.fft.fft2(controlSNV[band,:,:])\n",
    "    result = ndimage.fourier_gaussian(input_, sigma=S)\n",
    "    fftSNV_x[band,:,:]= np.fft.ifft2(result).real\n",
    "\n",
    "mag = np.sqrt(fftSNV_x[0]**2 + fftSNV_x[1]**2 + fftSNV_x[2]**2)\n",
    "fftSNV_x /= mag"
   ]
  },
  {
   "cell_type": "code",
   "execution_count": null,
   "metadata": {},
   "outputs": [],
   "source": [
    "fftSNV = surface.normals(fftDEM, cellsize, method=\"N82\")\n",
    "fftHS = shader.lambert(fftSNV, lv)\n",
    "\n",
    "fftHS_x = shader.lambert(fftSNV_x, lv)\n",
    "\n"
   ]
  },
  {
   "cell_type": "code",
   "execution_count": null,
   "metadata": {},
   "outputs": [],
   "source": [
    "%matplotlib inline\n",
    "fig, axs = plt.subplots(3,3, figsize=(12*cm, 12*cm))\n",
    "fig.set_dpi(300)\n",
    "\n",
    "for i in [0, 1, 2]:\n",
    "    for j in [0, 1, 2]:\n",
    "        axs[i,j].yaxis.set_visible(False)\n",
    "        axs[i,j].xaxis.set_visible(False)\n",
    "\n",
    "\n",
    "axs[0, 0].imshow(controlHS, cmap='gray', vmin=-1, vmax=1)\n",
    "axs[0, 0].set_title(\"Original\")\n",
    "axs[1, 0].xaxis.set_visible(True)\n",
    "axs[1, 0].hist(controlHS.ravel(), bins=64, range=[-1.0 ,1.0])\n",
    "axs[2, 0].imshow((np.moveaxis(controlSNV, 0, 2)+1) / 2)\n",
    "\n",
    "\n",
    "axs[0, 1].imshow(fftHS, cmap='gray', vmin=-1, vmax=1)\n",
    "axs[0, 1].set_title(\"DEM Blurred\")\n",
    "axs[1, 1].xaxis.set_visible(True)\n",
    "axs[1, 1].hist(fftHS.ravel(), bins=64, range=[-1.0 ,1.0])\n",
    "axs[2, 1].imshow((np.moveaxis(fftSNV, 0, 2)+1) / 2)\n",
    "\n",
    "\n",
    "\n",
    "axs[0, 2].imshow(fftHS_x, cmap='gray', vmin=-1, vmax=1)\n",
    "axs[0, 2].set_title(\"SNV Blurred\")\n",
    "axs[1, 2].xaxis.set_visible(True)\n",
    "axs[1, 2].hist(fftHS_x.ravel(), bins=64, range=[-1.0 ,1.0])\n",
    "axs[2, 2].imshow((np.moveaxis(fftSNV_x, 0, 2) +1) / 2)\n",
    "\n",
    "plt.tight_layout()"
   ]
  },
  {
   "cell_type": "code",
   "execution_count": null,
   "metadata": {},
   "outputs": [],
   "source": [
    "%matplotlib inline\n",
    "fig, axs = plt.subplots(1,3, figsize=(12*cm, 12*cm))\n",
    "fig.set_dpi(300)\n",
    "for j in [0, 1, 2]:\n",
    "    diff = fftSNV[j,:,:] - fftSNV_x[j,:,:]\n",
    "    axs[j].yaxis.set_visible(False)\n",
    "    #axs[j].xaxis.set_visible(False)\n",
    "    axs[j].hist(diff.ravel(), bins=64)\n",
    "\n",
    "plt.tight_layout()"
   ]
  },
  {
   "cell_type": "code",
   "execution_count": null,
   "metadata": {},
   "outputs": [],
   "source": [
    "fig, axs = plt.subplots(1, 1, figsize=(6*cm, 6*cm))\n",
    "fig.set_dpi(300)\n",
    "axs.yaxis.set_visible(False)\n",
    "axs.xaxis.set_visible(False)\n",
    "axs.imshow(controlHS - fftHS_x, cmap='gray', vmin=-0.5, vmax=0.5)"
   ]
  },
  {
   "cell_type": "code",
   "execution_count": null,
   "metadata": {},
   "outputs": [],
   "source": []
  },
  {
   "cell_type": "code",
   "execution_count": null,
   "metadata": {},
   "outputs": [],
   "source": []
  }
 ],
 "metadata": {
  "kernelspec": {
   "display_name": "PyCharm (OrientationTools)",
   "language": "python",
   "name": "pycharm-1d999970"
  },
  "language_info": {
   "codemirror_mode": {
    "name": "ipython",
    "version": 3
   },
   "file_extension": ".py",
   "mimetype": "text/x-python",
   "name": "python",
   "nbconvert_exporter": "python",
   "pygments_lexer": "ipython3",
   "version": "3.7.10"
  }
 },
 "nbformat": 4,
 "nbformat_minor": 4
}
