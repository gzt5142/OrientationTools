{
 "cells": [
  {
   "cell_type": "markdown",
   "metadata": {
    "collapsed": true,
    "pycharm": {
     "name": "#%% md\n"
    }
   },
   "source": [
    "# Sky Model"
   ]
  },
  {
   "cell_type": "code",
   "execution_count": 1,
   "outputs": [],
   "source": [
    "demFile = r\"Crater_Lake.tif\"\n",
    "skyConfig = r\"..\\SkyConfigFiles\\Clear_300_NNW_45.txt\"\n",
    "ve = 4.0"
   ],
   "metadata": {
    "collapsed": false,
    "pycharm": {
     "name": "#%%\n"
    }
   }
  },
  {
   "cell_type": "code",
   "execution_count": 2,
   "outputs": [],
   "source": [
    "import numpy as np\n",
    "from PIL import Image\n",
    "import matplotlib.pyplot as plt\n",
    "from trf import utils, surface, shader, shadow\n",
    "\n",
    "from ipywidgets import IntProgress, HTML, VBox\n",
    "from IPython.display import display\n",
    "\n",
    "cm=1/2.54"
   ],
   "metadata": {
    "collapsed": false,
    "pycharm": {
     "name": "#%%\n"
    }
   }
  },
  {
   "cell_type": "code",
   "execution_count": 3,
   "outputs": [],
   "source": [
    "dem = np.asarray(Image.open(demFile))\n",
    "#plt.imshow(dem, )"
   ],
   "metadata": {
    "collapsed": false,
    "pycharm": {
     "name": "#%%\n"
    }
   }
  },
  {
   "cell_type": "code",
   "execution_count": 4,
   "outputs": [
    {
     "data": {
      "text/plain": "VBox(children=(IntProgress(value=0, max=300), HTML(value='')))",
      "application/vnd.jupyter.widget-view+json": {
       "version_major": 2,
       "version_minor": 0,
       "model_id": "5e2659ac77fe4a828856e0cb59256755"
      }
     },
     "metadata": {},
     "output_type": "display_data"
    }
   ],
   "source": [
    "lights = utils.lightList(skyConfig)\n",
    "snv = surface.normals_by_method(dem, 3.33, \"N82\")\n",
    "dem = dem * ve\n",
    "\n",
    "progressMsg = HTML()\n",
    "progressBar = IntProgress(min=0, max=len(lights))\n",
    "vbox=VBox(children=[progressBar, progressMsg])\n",
    "display(vbox)"
   ],
   "metadata": {
    "collapsed": false,
    "pycharm": {
     "name": "#%%\n"
    }
   }
  },
  {
   "cell_type": "code",
   "execution_count": null,
   "outputs": [],
   "source": [
    "accumulator = np.zeros(dem.shape)\n",
    "for (i, (azimuth, elev, wt)) in enumerate(lights):\n",
    "    progressBar.value = i\n",
    "    progressMsg.value = f\"Light {i} of {progressBar.max} : Az={azimuth} / El={elev} / Wt={wt}\"\n",
    "    shadowArray = shadow.shadowLine(dem, float(azimuth), float(elev), 3.33)\n",
    "    shadeArray = shader.lambert(snv, utils.lightVector(float(azimuth), float(elev)))\n",
    "    shadeArray[shadeArray<0] = 0\n",
    "    shadeArray[shadowArray>0] = 0\n",
    "    accumulator = accumulator + (float(wt) * shadeArray)\n",
    "progressBar.bar_style='success'\n",
    "hs = np.copy(accumulator / (accumulator.max() * 255))"
   ],
   "metadata": {
    "collapsed": false,
    "pycharm": {
     "name": "#%%\n",
     "is_executing": true
    }
   }
  },
  {
   "cell_type": "code",
   "execution_count": null,
   "outputs": [],
   "source": [
    "fig, axs = plt.subplots(1,1, figsize=(4*cm, 4*cm))\n",
    "fig.set_dpi(600)\n",
    "axs.yaxis.set_visible(False)\n",
    "axs.xaxis.set_visible(False)\n",
    "\n",
    "axs.imshow(hs, cmap='gray')"
   ],
   "metadata": {
    "collapsed": false,
    "pycharm": {
     "name": "#%%\n",
     "is_executing": true
    }
   }
  },
  {
   "cell_type": "code",
   "execution_count": null,
   "outputs": [],
   "source": [],
   "metadata": {
    "collapsed": false,
    "pycharm": {
     "name": "#%%\n",
     "is_executing": true
    }
   }
  }
 ],
 "metadata": {
  "kernelspec": {
   "display_name": "Python 3",
   "language": "python",
   "name": "python3"
  },
  "language_info": {
   "codemirror_mode": {
    "name": "ipython",
    "version": 2
   },
   "file_extension": ".py",
   "mimetype": "text/x-python",
   "name": "python",
   "nbconvert_exporter": "python",
   "pygments_lexer": "ipython2",
   "version": "2.7.6"
  }
 },
 "nbformat": 4,
 "nbformat_minor": 0
}