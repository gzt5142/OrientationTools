{
 "cells": [
  {
   "cell_type": "markdown",
   "metadata": {
    "pycharm": {
     "name": "#%% md\n"
    }
   },
   "source": [
    "# Sky Model"
   ]
  },
  {
   "cell_type": "code",
   "execution_count": null,
   "metadata": {
    "collapsed": false,
    "jupyter": {
     "outputs_hidden": false
    },
    "pycharm": {
     "name": "#%%\n"
    }
   },
   "outputs": [],
   "source": [
    "demFile = r\"Crater_Lake.tif\"\n",
    "#skyConfig = r\"..\\SkyConfigFiles\\Clear_400_NNW_45.txt\"\n",
    "skyConfig = r\"..\\SkyConfigFiles\\TESTING_12_NW_45.txt\"\n",
    "ve = 5\n",
    "cellSize = 3.33"
   ]
  },
  {
   "cell_type": "code",
   "execution_count": null,
   "metadata": {
    "collapsed": false,
    "jupyter": {
     "outputs_hidden": false
    },
    "pycharm": {
     "name": "#%%\n"
    }
   },
   "outputs": [],
   "source": [
    "import numpy as np\n",
    "from PIL import Image\n",
    "import matplotlib.pyplot as plt\n",
    "\n",
    "import sys\n",
    "sys.path.insert(0, '..')\n",
    "from trf import utils, surface, shader, shadow\n",
    "\n",
    "from ipywidgets import IntProgress, HTML, VBox\n",
    "from IPython.display import display\n",
    "\n",
    "cm=1/2.54"
   ]
  },
  {
   "cell_type": "code",
   "execution_count": null,
   "metadata": {
    "collapsed": false,
    "jupyter": {
     "outputs_hidden": false
    },
    "pycharm": {
     "name": "#%%\n"
    }
   },
   "outputs": [],
   "source": [
    "d = np.asarray(Image.open(demFile))\n",
    "plt.imshow(d)"
   ]
  },
  {
   "cell_type": "code",
   "execution_count": null,
   "metadata": {
    "collapsed": false,
    "jupyter": {
     "outputs_hidden": false
    },
    "pycharm": {
     "name": "#%%\n"
    }
   },
   "outputs": [],
   "source": [
    "lights = utils.lightList(skyConfig)\n",
    "snv = surface.normals(d, cellSize)\n",
    "d = d * ve"
   ]
  },
  {
   "cell_type": "code",
   "execution_count": null,
   "metadata": {
    "collapsed": false,
    "jupyter": {
     "outputs_hidden": false
    },
    "pycharm": {
     "name": "#%%\n"
    }
   },
   "outputs": [],
   "source": [
    "progressMsg = HTML()\n",
    "progressBar = IntProgress(min=0, max=len(lights))\n",
    "vbox=VBox(children=[progressBar, progressMsg])\n",
    "display(vbox)\n",
    "\n",
    "accumulator = np.zeros(d.shape)\n",
    "for (i, (azimuth, elev, wt)) in enumerate(lights):\n",
    "    progressBar.value = i+1\n",
    "    progressMsg.value = f\"Light {progressBar.value} of {progressBar.max} : Az={azimuth} / El={elev} / Wt={wt}\"\n",
    "    shadowArray = shadow.shadowLine(d, float(azimuth), float(elev), cellSize)\n",
    "    shadeArray = shader.lambert(snv, utils.lightVector(float(azimuth), float(elev)))\n",
    "    shadeArray[shadeArray<0] = 0\n",
    "    shadeArray[shadowArray>0] = 0\n",
    "    accumulator = accumulator + (float(wt) * shadeArray)\n",
    "progressBar.bar_style='success'"
   ]
  },
  {
   "cell_type": "code",
   "execution_count": null,
   "metadata": {
    "collapsed": false,
    "jupyter": {
     "outputs_hidden": false
    },
    "pycharm": {
     "name": "#%%\n"
    }
   },
   "outputs": [],
   "source": [
    "# stretch across min..max\n",
    "hs = (accumulator - accumulator.min()) * (255 / (accumulator.max()-accumulator.min()))"
   ]
  },
  {
   "cell_type": "code",
   "execution_count": null,
   "metadata": {
    "collapsed": false,
    "jupyter": {
     "outputs_hidden": false
    },
    "pycharm": {
     "name": "#%%\n"
    }
   },
   "outputs": [],
   "source": [
    "fig, axs = plt.subplots(1,1, figsize=(8*cm, 8*cm))\n",
    "fig.set_dpi(600)\n",
    "axs.yaxis.set_visible(False)\n",
    "axs.xaxis.set_visible(False)\n",
    "axs.imshow(accumulator, cmap='gray')\n",
    "#axs.imshow(hs.astype('uint8'), cmap='gray', vmin=0, vmax=255)"
   ]
  },
  {
   "cell_type": "code",
   "execution_count": null,
   "metadata": {
    "collapsed": false,
    "jupyter": {
     "outputs_hidden": false
    },
    "pycharm": {
     "name": "#%%\n"
    }
   },
   "outputs": [],
   "source": []
  }
 ],
 "metadata": {
  "kernelspec": {
   "display_name": "PyCharm (OrientationTools)",
   "language": "python",
   "name": "pycharm-1d999970"
  },
  "language_info": {
   "codemirror_mode": {
    "name": "ipython",
    "version": 3
   },
   "file_extension": ".py",
   "mimetype": "text/x-python",
   "name": "python",
   "nbconvert_exporter": "python",
   "pygments_lexer": "ipython3",
   "version": "3.7.10"
  }
 },
 "nbformat": 4,
 "nbformat_minor": 4
}
